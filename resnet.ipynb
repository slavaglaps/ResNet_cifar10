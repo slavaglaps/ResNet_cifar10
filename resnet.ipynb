{
 "cells": [
  {
   "cell_type": "code",
   "execution_count": 23,
   "metadata": {},
   "outputs": [
    {
     "name": "stdout",
     "output_type": "stream",
     "text": [
      "env: KERAS_BACKEND=tensorflow\n"
     ]
    }
   ],
   "source": [
    "# -*- coding: utf-8 -*-\n",
    "'''ResNet50 model for Keras.\n",
    "# Reference:\n",
    "- [Deep Residual Learning for Image Recognition](https://arxiv.org/abs/1512.03385)\n",
    "Adapted from code contributed by BigMoyan.\n",
    "'''\n",
    "from __future__ import print_function\n",
    "\n",
    "import numpy as np\n",
    "import warnings\n",
    "import tensorflow\n",
    "\n",
    "%env KERAS_BACKEND=tensorflow\n",
    "\n",
    "import keras\n",
    "from keras.layers import Input\n",
    "from keras import layers\n",
    "from keras.layers import Dense\n",
    "from keras.layers import Activation\n",
    "from keras.layers import Flatten\n",
    "from keras.layers import Conv2D\n",
    "from keras.layers import MaxPooling2D\n",
    "from keras.layers import GlobalMaxPooling2D\n",
    "from keras.layers import ZeroPadding2D\n",
    "from keras.layers import AveragePooling2D\n",
    "from keras.layers import GlobalAveragePooling2D\n",
    "from keras.layers import BatchNormalization\n",
    "from keras.models import Model\n",
    "from keras.preprocessing import image\n",
    "import keras.backend as K\n",
    "from keras.utils import layer_utils\n",
    "from keras.utils.data_utils import get_file\n",
    "from keras.applications.imagenet_utils import decode_predictions\n",
    "from keras.applications.imagenet_utils import preprocess_input\n",
    "from keras.applications.imagenet_utils import _obtain_input_shape\n",
    "from keras.engine.topology import get_source_inputs\n",
    "\n",
    "\n",
    "\n",
    "def identity_block(input_tensor, kernel_size, filters, stage, block):\n",
    "\n",
    "    filters1, filters2, filters3 = filters\n",
    "    \n",
    "    if K.image_data_format() == 'channels_last':\n",
    "        bn_axis = 3\n",
    "    else:\n",
    "        bn_axis = 1\n",
    "  \n",
    "\n",
    "    x = Conv2D(filters1, (1, 1))(input_tensor)\n",
    "    x = BatchNormalization(axis=bn_axis)(x)\n",
    "    x = Activation('relu')(x)\n",
    "\n",
    "    x = Conv2D(filters2, kernel_size,\n",
    "               padding='same')(x)\n",
    "    x = BatchNormalization(axis=bn_axis)(x)\n",
    "    x = Activation('relu')(x)\n",
    "\n",
    "    x = Conv2D(filters3, (1, 1))(x)\n",
    "    x = BatchNormalization(axis=bn_axis)(x)\n",
    "\n",
    "    x = layers.add([x, input_tensor])\n",
    "    x = Activation('relu')(x)\n",
    "    return x\n",
    "\n",
    "\n",
    "def conv_block(input_tensor, kernel_size, filters, stage, block, strides=(2, 2)):\n",
    "\n",
    "    filters1, filters2, filters3 = filters\n",
    "    \n",
    "    if K.image_data_format() == 'channels_last':\n",
    "        bn_axis = 3\n",
    "    else:\n",
    "        bn_axis = 1\n",
    "        \n",
    "    x = Conv2D(filters1, (1, 1), strides=strides)(input_tensor)\n",
    "    x = BatchNormalization(axis=bn_axis)(x)\n",
    "    x = Activation('relu')(x)\n",
    "\n",
    "    x = Conv2D(filters2, kernel_size, padding='same')(x)\n",
    "    x = BatchNormalization(axis=bn_axis)(x)\n",
    "    x = Activation('relu')(x)\n",
    "\n",
    "    x = Conv2D(filters3, (1, 1))(x)\n",
    "    x = BatchNormalization(axis=bn_axis)(x)\n",
    "\n",
    "    shortcut = Conv2D(filters3, (1, 1), strides=strides)(input_tensor)\n",
    "    shortcut = BatchNormalization(axis=bn_axis)(shortcut)\n",
    "\n",
    "    x = layers.add([x, shortcut])\n",
    "    x = Activation('relu')(x)\n",
    "    return x\n",
    "\n",
    "\n",
    "def ResNet50(input_tensor=None, input_shape=None,\n",
    "             pooling=None,\n",
    "             classes=1000):\n",
    "\n",
    "    # Determine proper input shape\n",
    "    input_shape = (32,32,3)\n",
    "\n",
    "    if input_tensor is None:\n",
    "        img_input = Input(shape=input_shape)\n",
    "    else:\n",
    "        if not K.is_keras_tensor(input_tensor):\n",
    "            img_input = Input(tensor=input_tensor, shape=input_shape)\n",
    "        else:\n",
    "            img_input = input_tensor\n",
    "    if K.image_data_format() == 'channels_last':\n",
    "        bn_axis = 3\n",
    "    else:\n",
    "        bn_axis = 1\n",
    "\n",
    "    x = ZeroPadding2D((3, 3))(img_input)\n",
    "    x = Conv2D(64, (7, 7), strides=(2, 2), name='conv1')(x)\n",
    "    x = BatchNormalization(axis=bn_axis, name='bn_conv1')(x)\n",
    "    x = Activation('relu')(x)\n",
    "    x = MaxPooling2D((3, 3), strides=(2, 2))(x)\n",
    "\n",
    "    x = conv_block(x, 3, [64, 64, 256], stage=2, block='a', strides=(1, 1))\n",
    "    x = identity_block(x, 3, [64, 64, 256], stage=2, block='b')\n",
    "    x = identity_block(x, 3, [64, 64, 256], stage=2, block='c')\n",
    "\n",
    "    x = conv_block(x, 3, [128, 128, 512], stage=3, block='a')\n",
    "    x = identity_block(x, 3, [128, 128, 512], stage=3, block='b')\n",
    "    x = identity_block(x, 3, [128, 128, 512], stage=3, block='c')\n",
    "    x = identity_block(x, 3, [128, 128, 512], stage=3, block='d')\n",
    "\n",
    "    x = conv_block(x, 3, [256, 256, 1024], stage=4, block='a')\n",
    "    x = identity_block(x, 3, [256, 256, 1024], stage=4, block='b')\n",
    "    x = identity_block(x, 3, [256, 256, 1024], stage=4, block='c')\n",
    "    x = identity_block(x, 3, [256, 256, 1024], stage=4, block='d')\n",
    "    x = identity_block(x, 3, [256, 256, 1024], stage=4, block='e')\n",
    "    x = identity_block(x, 3, [256, 256, 1024], stage=4, block='f')\n",
    "\n",
    "    x = conv_block(x, 3, [512, 512, 2048], stage=5, block='a')\n",
    "    x = identity_block(x, 3, [512, 512, 2048], stage=5, block='b')\n",
    "    x = identity_block(x, 3, [512, 512, 2048], stage=5, block='c')\n",
    "    \n",
    "    block_shape = K.int_shape(x)\n",
    "\n",
    "    x = AveragePooling2D(pool_size=(block_shape[1], block_shape[2]),strides=(1, 1))(x)\n",
    "\n",
    "   \n",
    "    x = Flatten()(x)\n",
    "    x = Dense(classes, activation='softmax', name='fc1000')(x)\n",
    "\n",
    "\n",
    "    # Ensure that the model takes into account\n",
    "    # any potential predecessors of `input_tensor`.\n",
    "    if input_tensor is not None:\n",
    "        inputs = get_source_inputs(input_tensor)\n",
    "    else:\n",
    "        inputs = img_input\n",
    "    # Create model.\n",
    "    model = Model(inputs, x, name='resnet50')\n",
    "\n",
    "    return model\n",
    "\n",
    "\n",
    "\n",
    "\n",
    "   "
   ]
  },
  {
   "cell_type": "code",
   "execution_count": 24,
   "metadata": {},
   "outputs": [
    {
     "data": {
      "text/plain": [
       "'tensorflow'"
      ]
     },
     "execution_count": 24,
     "metadata": {},
     "output_type": "execute_result"
    }
   ],
   "source": [
    " keras.backend.backend()"
   ]
  },
  {
   "cell_type": "code",
   "execution_count": 25,
   "metadata": {
    "collapsed": true
   },
   "outputs": [],
   "source": [
    " model = ResNet50(classes = 10)\n"
   ]
  },
  {
   "cell_type": "code",
   "execution_count": 26,
   "metadata": {
    "collapsed": true
   },
   "outputs": [],
   "source": [
    "optimizer = keras.optimizers.RMSprop(lr=0.0001, rho=0.9, epsilon=1e-08, decay=0.0)\n",
    "model.compile(loss='categorical_crossentropy',\n",
    "              optimizer=optimizer,\n",
    "              metrics=['accuracy'])"
   ]
  },
  {
   "cell_type": "code",
   "execution_count": 27,
   "metadata": {},
   "outputs": [
    {
     "name": "stdout",
     "output_type": "stream",
     "text": [
      "x_train shape: (50000, 32, 32, 3)\n",
      "50000 train samples\n",
      "10000 test samples\n"
     ]
    }
   ],
   "source": [
    "from keras.datasets import cifar10\n",
    "\n",
    "\n",
    "(x_train, y_train), (x_test, y_test) = cifar10.load_data()\n",
    "print('x_train shape:', x_train.shape)\n",
    "print(x_train.shape[0], 'train samples')\n",
    "print(x_test.shape[0], 'test samples')\n",
    "x_train = x_train/255\n",
    "x_test = x_test/255 "
   ]
  },
  {
   "cell_type": "code",
   "execution_count": 28,
   "metadata": {
    "collapsed": true
   },
   "outputs": [],
   "source": [
    "import keras\n",
    "\n",
    "y_train = keras.utils.to_categorical(y_train, 10)\n",
    "y_test = keras.utils.to_categorical(y_test, 10)"
   ]
  },
  {
   "cell_type": "code",
   "execution_count": 29,
   "metadata": {},
   "outputs": [
    {
     "name": "stdout",
     "output_type": "stream",
     "text": [
      "Epoch 1/100\n",
      "390/390 [==============================] - 60s - loss: 2.4729 - acc: 0.2055 - val_loss: 2.2552 - val_acc: 0.1932\n",
      "Epoch 2/100\n",
      "390/390 [==============================] - 49s - loss: 1.8500 - acc: 0.3340 - val_loss: 2.1240 - val_acc: 0.3474\n",
      "Epoch 3/100\n",
      "390/390 [==============================] - 49s - loss: 1.5394 - acc: 0.4431 - val_loss: 1.5906 - val_acc: 0.4459\n",
      "Epoch 4/100\n",
      "390/390 [==============================] - 49s - loss: 1.3877 - acc: 0.4984 - val_loss: 1.3233 - val_acc: 0.5320\n",
      "Epoch 5/100\n",
      "390/390 [==============================] - 49s - loss: 1.2775 - acc: 0.5422 - val_loss: 1.3034 - val_acc: 0.5491\n",
      "Epoch 6/100\n",
      "390/390 [==============================] - 49s - loss: 1.1913 - acc: 0.5759 - val_loss: 1.6572 - val_acc: 0.4607\n",
      "Epoch 7/100\n",
      "390/390 [==============================] - 49s - loss: 1.1166 - acc: 0.6019 - val_loss: 1.1349 - val_acc: 0.6028\n",
      "Epoch 8/100\n",
      "390/390 [==============================] - 49s - loss: 1.0496 - acc: 0.6270 - val_loss: 1.0502 - val_acc: 0.6298\n",
      "Epoch 9/100\n",
      "390/390 [==============================] - 49s - loss: 1.0013 - acc: 0.6444 - val_loss: 1.0110 - val_acc: 0.6403\n",
      "Epoch 10/100\n",
      "390/390 [==============================] - 49s - loss: 0.9522 - acc: 0.6639 - val_loss: 1.3673 - val_acc: 0.5519\n",
      "Epoch 11/100\n",
      "390/390 [==============================] - 49s - loss: 0.9095 - acc: 0.6782 - val_loss: 1.0087 - val_acc: 0.6517\n",
      "Epoch 12/100\n",
      "390/390 [==============================] - 49s - loss: 0.8746 - acc: 0.6893 - val_loss: 0.9707 - val_acc: 0.6564\n",
      "Epoch 13/100\n",
      "390/390 [==============================] - 49s - loss: 0.8346 - acc: 0.7037 - val_loss: 0.9772 - val_acc: 0.6624\n",
      "Epoch 14/100\n",
      "390/390 [==============================] - 49s - loss: 0.8064 - acc: 0.7141 - val_loss: 1.0068 - val_acc: 0.6696\n",
      "Epoch 15/100\n",
      "390/390 [==============================] - 49s - loss: 0.7760 - acc: 0.7266 - val_loss: 1.0285 - val_acc: 0.6545\n",
      "Epoch 16/100\n",
      "390/390 [==============================] - 49s - loss: 0.7523 - acc: 0.7353 - val_loss: 0.9751 - val_acc: 0.6780\n",
      "Epoch 17/100\n",
      "390/390 [==============================] - 49s - loss: 0.7217 - acc: 0.7458 - val_loss: 0.8505 - val_acc: 0.7068\n",
      "Epoch 18/100\n",
      "390/390 [==============================] - 49s - loss: 0.7048 - acc: 0.7514 - val_loss: 0.9876 - val_acc: 0.6750\n",
      "Epoch 19/100\n",
      "390/390 [==============================] - 49s - loss: 0.6704 - acc: 0.7624 - val_loss: 0.9258 - val_acc: 0.6811\n",
      "Epoch 20/100\n",
      "390/390 [==============================] - 49s - loss: 0.6497 - acc: 0.7693 - val_loss: 1.2689 - val_acc: 0.6070\n",
      "Epoch 21/100\n",
      "390/390 [==============================] - 49s - loss: 0.6361 - acc: 0.7761 - val_loss: 1.0391 - val_acc: 0.6679\n",
      "Epoch 22/100\n",
      "390/390 [==============================] - 49s - loss: 0.6135 - acc: 0.7818 - val_loss: 0.8643 - val_acc: 0.7168\n",
      "Epoch 23/100\n",
      "390/390 [==============================] - 49s - loss: 0.5976 - acc: 0.7867 - val_loss: 0.7908 - val_acc: 0.7332\n",
      "Epoch 24/100\n",
      "390/390 [==============================] - 49s - loss: 0.5710 - acc: 0.7966 - val_loss: 1.0244 - val_acc: 0.6683\n",
      "Epoch 25/100\n",
      "390/390 [==============================] - 49s - loss: 0.5581 - acc: 0.8018 - val_loss: 0.7849 - val_acc: 0.7400\n",
      "Epoch 26/100\n",
      "390/390 [==============================] - 49s - loss: 0.5397 - acc: 0.8061 - val_loss: 0.7835 - val_acc: 0.7407\n",
      "Epoch 27/100\n",
      "390/390 [==============================] - 49s - loss: 0.5181 - acc: 0.8152 - val_loss: 0.9763 - val_acc: 0.6971\n",
      "Epoch 28/100\n",
      "390/390 [==============================] - 49s - loss: 0.5124 - acc: 0.8180 - val_loss: 0.9878 - val_acc: 0.6944\n",
      "Epoch 29/100\n",
      "390/390 [==============================] - 49s - loss: 0.4925 - acc: 0.8271 - val_loss: 0.8870 - val_acc: 0.7202\n",
      "Epoch 30/100\n",
      "390/390 [==============================] - 49s - loss: 0.4798 - acc: 0.8305 - val_loss: 0.8282 - val_acc: 0.7317\n",
      "Epoch 31/100\n",
      "390/390 [==============================] - 49s - loss: 0.4720 - acc: 0.8327 - val_loss: 0.8700 - val_acc: 0.7291\n",
      "Epoch 32/100\n",
      "390/390 [==============================] - 49s - loss: 0.4627 - acc: 0.8369 - val_loss: 0.8153 - val_acc: 0.7388\n",
      "Epoch 33/100\n",
      "390/390 [==============================] - 49s - loss: 0.4437 - acc: 0.8420 - val_loss: 0.8630 - val_acc: 0.7195\n",
      "Epoch 34/100\n",
      "390/390 [==============================] - 49s - loss: 0.4362 - acc: 0.8456 - val_loss: 0.7979 - val_acc: 0.7520\n",
      "Epoch 35/100\n",
      "390/390 [==============================] - 49s - loss: 0.4205 - acc: 0.8491 - val_loss: 0.7619 - val_acc: 0.7650\n",
      "Epoch 36/100\n",
      "390/390 [==============================] - 49s - loss: 0.4065 - acc: 0.8569 - val_loss: 0.8158 - val_acc: 0.7534\n",
      "Epoch 37/100\n",
      "390/390 [==============================] - 49s - loss: 0.3995 - acc: 0.8587 - val_loss: 0.8531 - val_acc: 0.7363\n",
      "Epoch 38/100\n",
      "390/390 [==============================] - 49s - loss: 0.3859 - acc: 0.8612 - val_loss: 0.8741 - val_acc: 0.7335\n",
      "Epoch 39/100\n",
      "390/390 [==============================] - 49s - loss: 0.3790 - acc: 0.8648 - val_loss: 0.8070 - val_acc: 0.7554\n",
      "Epoch 40/100\n",
      "390/390 [==============================] - 49s - loss: 0.3663 - acc: 0.8702 - val_loss: 0.8403 - val_acc: 0.7519\n",
      "Epoch 41/100\n",
      "390/390 [==============================] - 49s - loss: 0.3620 - acc: 0.8710 - val_loss: 0.7966 - val_acc: 0.7664\n",
      "Epoch 42/100\n",
      "390/390 [==============================] - 49s - loss: 0.3427 - acc: 0.8788 - val_loss: 0.7792 - val_acc: 0.7689\n",
      "Epoch 43/100\n",
      "390/390 [==============================] - 49s - loss: 0.3381 - acc: 0.8795 - val_loss: 0.7978 - val_acc: 0.7654\n",
      "Epoch 44/100\n",
      "390/390 [==============================] - 49s - loss: 0.3366 - acc: 0.8792 - val_loss: 0.7987 - val_acc: 0.7719\n",
      "Epoch 45/100\n",
      "390/390 [==============================] - 49s - loss: 0.3212 - acc: 0.8856 - val_loss: 0.8970 - val_acc: 0.7554\n",
      "Epoch 46/100\n",
      "390/390 [==============================] - 49s - loss: 0.3136 - acc: 0.8886 - val_loss: 0.8421 - val_acc: 0.7688\n",
      "Epoch 47/100\n",
      "390/390 [==============================] - 49s - loss: 0.3047 - acc: 0.8922 - val_loss: 0.7918 - val_acc: 0.7860\n",
      "Epoch 48/100\n",
      "390/390 [==============================] - 49s - loss: 0.2996 - acc: 0.8942 - val_loss: 0.8353 - val_acc: 0.7719\n",
      "Epoch 49/100\n",
      "390/390 [==============================] - 49s - loss: 0.2914 - acc: 0.8959 - val_loss: 0.8975 - val_acc: 0.7602\n",
      "Epoch 50/100\n",
      "390/390 [==============================] - 49s - loss: 0.2872 - acc: 0.8977 - val_loss: 0.9429 - val_acc: 0.7497\n",
      "Epoch 51/100\n",
      "390/390 [==============================] - 49s - loss: 0.2827 - acc: 0.8998 - val_loss: 0.8359 - val_acc: 0.7772\n",
      "Epoch 52/100\n",
      "390/390 [==============================] - 49s - loss: 0.2713 - acc: 0.9060 - val_loss: 0.7774 - val_acc: 0.7787\n",
      "Epoch 53/100\n",
      "390/390 [==============================] - 49s - loss: 0.2652 - acc: 0.9043 - val_loss: 0.9699 - val_acc: 0.7536\n",
      "Epoch 54/100\n",
      "390/390 [==============================] - 49s - loss: 0.2652 - acc: 0.9052 - val_loss: 0.8874 - val_acc: 0.7661\n",
      "Epoch 55/100\n",
      "390/390 [==============================] - 49s - loss: 0.2534 - acc: 0.9103 - val_loss: 0.9560 - val_acc: 0.7726\n",
      "Epoch 56/100\n",
      "390/390 [==============================] - 49s - loss: 0.2509 - acc: 0.9123 - val_loss: 0.8559 - val_acc: 0.7710\n",
      "Epoch 57/100\n",
      "390/390 [==============================] - 49s - loss: 0.2455 - acc: 0.9136 - val_loss: 0.9788 - val_acc: 0.7577\n",
      "Epoch 58/100\n",
      "390/390 [==============================] - 49s - loss: 0.2412 - acc: 0.9157 - val_loss: 0.9392 - val_acc: 0.7722\n",
      "Epoch 59/100\n",
      "390/390 [==============================] - 49s - loss: 0.2351 - acc: 0.9174 - val_loss: 0.8726 - val_acc: 0.7724\n",
      "Epoch 60/100\n",
      "390/390 [==============================] - 49s - loss: 0.2261 - acc: 0.9214 - val_loss: 1.1763 - val_acc: 0.7337\n",
      "Epoch 61/100\n",
      "390/390 [==============================] - 49s - loss: 0.2247 - acc: 0.9210 - val_loss: 0.8304 - val_acc: 0.7887\n",
      "Epoch 62/100\n",
      "390/390 [==============================] - 49s - loss: 0.2212 - acc: 0.9222 - val_loss: 1.0186 - val_acc: 0.7643\n",
      "Epoch 63/100\n",
      "390/390 [==============================] - 49s - loss: 0.2192 - acc: 0.9230 - val_loss: 0.9181 - val_acc: 0.7791\n",
      "Epoch 64/100\n",
      "390/390 [==============================] - 49s - loss: 0.2161 - acc: 0.9252 - val_loss: 0.8902 - val_acc: 0.7880\n",
      "Epoch 65/100\n",
      "390/390 [==============================] - 49s - loss: 0.2077 - acc: 0.9276 - val_loss: 1.1130 - val_acc: 0.7579\n",
      "Epoch 66/100\n"
     ]
    },
    {
     "name": "stdout",
     "output_type": "stream",
     "text": [
      "390/390 [==============================] - 49s - loss: 0.2021 - acc: 0.9289 - val_loss: 0.9889 - val_acc: 0.7786\n",
      "Epoch 67/100\n",
      "390/390 [==============================] - 49s - loss: 0.2025 - acc: 0.9295 - val_loss: 0.8573 - val_acc: 0.7782\n",
      "Epoch 68/100\n",
      "390/390 [==============================] - 49s - loss: 0.1933 - acc: 0.9307 - val_loss: 0.9279 - val_acc: 0.7858\n",
      "Epoch 69/100\n",
      "390/390 [==============================] - 49s - loss: 0.1931 - acc: 0.9337 - val_loss: 1.1510 - val_acc: 0.7429\n",
      "Epoch 70/100\n",
      "390/390 [==============================] - 49s - loss: 0.1925 - acc: 0.9328 - val_loss: 0.9661 - val_acc: 0.7652\n",
      "Epoch 71/100\n",
      "390/390 [==============================] - 49s - loss: 0.1825 - acc: 0.9374 - val_loss: 1.0358 - val_acc: 0.7599\n",
      "Epoch 72/100\n",
      "390/390 [==============================] - 49s - loss: 0.1830 - acc: 0.9369 - val_loss: 0.9303 - val_acc: 0.7828\n",
      "Epoch 73/100\n",
      "390/390 [==============================] - 49s - loss: 0.1796 - acc: 0.9377 - val_loss: 0.9865 - val_acc: 0.7766\n",
      "Epoch 74/100\n",
      "390/390 [==============================] - 49s - loss: 0.1798 - acc: 0.9375 - val_loss: 0.9209 - val_acc: 0.7876\n",
      "Epoch 75/100\n",
      "390/390 [==============================] - 49s - loss: 0.1777 - acc: 0.9376 - val_loss: 0.9295 - val_acc: 0.7768\n",
      "Epoch 76/100\n",
      "390/390 [==============================] - 49s - loss: 0.1731 - acc: 0.9402 - val_loss: 1.1212 - val_acc: 0.7624\n",
      "Epoch 77/100\n",
      "390/390 [==============================] - 49s - loss: 0.1737 - acc: 0.9402 - val_loss: 1.0501 - val_acc: 0.7674\n",
      "Epoch 78/100\n",
      "390/390 [==============================] - 49s - loss: 0.1686 - acc: 0.9417 - val_loss: 1.1933 - val_acc: 0.7385\n",
      "Epoch 79/100\n",
      "390/390 [==============================] - 49s - loss: 0.1669 - acc: 0.9412 - val_loss: 0.9103 - val_acc: 0.7855\n",
      "Epoch 80/100\n",
      "390/390 [==============================] - 49s - loss: 0.1659 - acc: 0.9434 - val_loss: 0.9963 - val_acc: 0.7690\n",
      "Epoch 81/100\n",
      "390/390 [==============================] - 49s - loss: 0.1559 - acc: 0.9465 - val_loss: 0.9765 - val_acc: 0.7819\n",
      "Epoch 82/100\n",
      "390/390 [==============================] - 49s - loss: 0.1595 - acc: 0.9450 - val_loss: 1.1622 - val_acc: 0.7567\n",
      "Epoch 83/100\n",
      "390/390 [==============================] - 49s - loss: 0.1556 - acc: 0.9460 - val_loss: 1.1750 - val_acc: 0.7387\n",
      "Epoch 84/100\n",
      "390/390 [==============================] - 49s - loss: 0.1535 - acc: 0.9458 - val_loss: 0.9967 - val_acc: 0.7725\n",
      "Epoch 85/100\n",
      "390/390 [==============================] - 49s - loss: 0.1534 - acc: 0.9465 - val_loss: 0.9501 - val_acc: 0.7809\n",
      "Epoch 86/100\n",
      "390/390 [==============================] - 49s - loss: 0.1514 - acc: 0.9477 - val_loss: 1.2033 - val_acc: 0.7561\n",
      "Epoch 87/100\n",
      "390/390 [==============================] - 49s - loss: 0.1471 - acc: 0.9494 - val_loss: 1.0352 - val_acc: 0.7740\n",
      "Epoch 88/100\n",
      "390/390 [==============================] - 49s - loss: 0.1451 - acc: 0.9491 - val_loss: 0.9626 - val_acc: 0.7890\n",
      "Epoch 89/100\n",
      "390/390 [==============================] - 49s - loss: 0.1493 - acc: 0.9491 - val_loss: 0.9376 - val_acc: 0.7839\n",
      "Epoch 90/100\n",
      "390/390 [==============================] - 49s - loss: 0.1463 - acc: 0.9485 - val_loss: 1.0319 - val_acc: 0.7818\n",
      "Epoch 91/100\n",
      "390/390 [==============================] - 49s - loss: 0.1393 - acc: 0.9511 - val_loss: 1.1059 - val_acc: 0.7629\n",
      "Epoch 92/100\n",
      "390/390 [==============================] - 49s - loss: 0.1355 - acc: 0.9524 - val_loss: 1.0945 - val_acc: 0.7715\n",
      "Epoch 93/100\n",
      "390/390 [==============================] - 49s - loss: 0.1366 - acc: 0.9537 - val_loss: 1.1181 - val_acc: 0.7647\n",
      "Epoch 94/100\n",
      "390/390 [==============================] - 49s - loss: 0.1338 - acc: 0.9531 - val_loss: 0.9922 - val_acc: 0.7867\n",
      "Epoch 95/100\n",
      "390/390 [==============================] - 49s - loss: 0.1316 - acc: 0.9539 - val_loss: 1.0086 - val_acc: 0.7752\n",
      "Epoch 96/100\n",
      "390/390 [==============================] - 49s - loss: 0.1305 - acc: 0.9547 - val_loss: 1.1091 - val_acc: 0.7654\n",
      "Epoch 97/100\n",
      "390/390 [==============================] - 49s - loss: 0.1335 - acc: 0.9531 - val_loss: 1.0258 - val_acc: 0.7806\n",
      "Epoch 98/100\n",
      "390/390 [==============================] - 49s - loss: 0.1287 - acc: 0.9554 - val_loss: 0.9745 - val_acc: 0.7873\n",
      "Epoch 99/100\n",
      "390/390 [==============================] - 49s - loss: 0.1281 - acc: 0.9561 - val_loss: 1.1065 - val_acc: 0.7773\n",
      "Epoch 100/100\n",
      "390/390 [==============================] - 49s - loss: 0.1288 - acc: 0.9557 - val_loss: 1.2008 - val_acc: 0.7590\n"
     ]
    },
    {
     "data": {
      "text/plain": [
       "<keras.callbacks.History at 0x1aa7e679710>"
      ]
     },
     "execution_count": 29,
     "metadata": {},
     "output_type": "execute_result"
    }
   ],
   "source": [
    "from keras.preprocessing.image import ImageDataGenerator\n",
    "datagen = ImageDataGenerator(\n",
    "        featurewise_center=False,  # set input mean to 0 over the dataset\n",
    "        samplewise_center=False,  # set each sample mean to 0\n",
    "        featurewise_std_normalization=False,  # divide inputs by std of the dataset\n",
    "        samplewise_std_normalization=False,  # divide each input by its std\n",
    "        zca_whitening=False,  # apply ZCA whitening\n",
    "        rotation_range=0,  # randomly rotate images in the range (degrees, 0 to 180)\n",
    "        width_shift_range=0.1,  # randomly shift images horizontally (fraction of total width)\n",
    "        height_shift_range=0.1,  # randomly shift images vertically (fraction of total height)\n",
    "        horizontal_flip=True,  # randomly flip images\n",
    "        vertical_flip=False)  # randomly flip images\n",
    "\n",
    "# Compute quantities required for feature-wise normalization\n",
    "# (std, mean, and principal components if ZCA whitening is applied).\n",
    "datagen.fit(x_train)\n",
    "\n",
    "# Fit the model on the batches generated by datagen.flow().\n",
    "model.fit_generator(datagen.flow(x_train, y_train,\n",
    "                                     batch_size=128),\n",
    "                        steps_per_epoch=x_train.shape[0] // 128,\n",
    "                        epochs=100,\n",
    "                        validation_data=(x_test, y_test))"
   ]
  },
  {
   "cell_type": "code",
   "execution_count": 3,
   "metadata": {},
   "outputs": [
    {
     "name": "stdout",
     "output_type": "stream",
     "text": [
      "2.0.2\n"
     ]
    }
   ],
   "source": [
    "import keras\n",
    "print(keras.__version__)"
   ]
  },
  {
   "cell_type": "code",
   "execution_count": 12,
   "metadata": {
    "collapsed": true
   },
   "outputs": [],
   "source": [
    "from keras import backend"
   ]
  },
  {
   "cell_type": "code",
   "execution_count": 15,
   "metadata": {},
   "outputs": [
    {
     "data": {
      "text/plain": [
       "'theano'"
      ]
     },
     "execution_count": 15,
     "metadata": {},
     "output_type": "execute_result"
    }
   ],
   "source": [
    " keras.backend.backend()"
   ]
  },
  {
   "cell_type": "code",
   "execution_count": 7,
   "metadata": {},
   "outputs": [
    {
     "ename": "ImportError",
     "evalue": "Failed to import pydot. You must install pydot and graphviz for `pydotprint` to work.",
     "output_type": "error",
     "traceback": [
      "\u001b[1;31m---------------------------------------------------------------------------\u001b[0m",
      "\u001b[1;31mImportError\u001b[0m                               Traceback (most recent call last)",
      "\u001b[1;32m<ipython-input-7-437440fcd987>\u001b[0m in \u001b[0;36m<module>\u001b[1;34m()\u001b[0m\n\u001b[0;32m      1\u001b[0m \u001b[1;32mfrom\u001b[0m \u001b[0mkeras\u001b[0m\u001b[1;33m.\u001b[0m\u001b[0mutils\u001b[0m \u001b[1;32mimport\u001b[0m \u001b[0mplot_model\u001b[0m\u001b[1;33m\u001b[0m\u001b[0m\n\u001b[1;32m----> 2\u001b[1;33m \u001b[0mplot_model\u001b[0m\u001b[1;33m(\u001b[0m\u001b[0mmodel\u001b[0m\u001b[1;33m,\u001b[0m \u001b[0mto_file\u001b[0m\u001b[1;33m=\u001b[0m\u001b[1;34m'model.png'\u001b[0m\u001b[1;33m)\u001b[0m\u001b[1;33m\u001b[0m\u001b[0m\n\u001b[0m",
      "\u001b[1;32mc:\\users\\slava\\anaconda3\\envs\\py35\\lib\\site-packages\\keras\\utils\\vis_utils.py\u001b[0m in \u001b[0;36mplot_model\u001b[1;34m(model, to_file, show_shapes, show_layer_names)\u001b[0m\n\u001b[0;32m     98\u001b[0m                \u001b[0mshow_shapes\u001b[0m\u001b[1;33m=\u001b[0m\u001b[1;32mFalse\u001b[0m\u001b[1;33m,\u001b[0m\u001b[1;33m\u001b[0m\u001b[0m\n\u001b[0;32m     99\u001b[0m                show_layer_names=True):\n\u001b[1;32m--> 100\u001b[1;33m     \u001b[0mdot\u001b[0m \u001b[1;33m=\u001b[0m \u001b[0mmodel_to_dot\u001b[0m\u001b[1;33m(\u001b[0m\u001b[0mmodel\u001b[0m\u001b[1;33m,\u001b[0m \u001b[0mshow_shapes\u001b[0m\u001b[1;33m,\u001b[0m \u001b[0mshow_layer_names\u001b[0m\u001b[1;33m)\u001b[0m\u001b[1;33m\u001b[0m\u001b[0m\n\u001b[0m\u001b[0;32m    101\u001b[0m     \u001b[0m_\u001b[0m\u001b[1;33m,\u001b[0m \u001b[0mextension\u001b[0m \u001b[1;33m=\u001b[0m \u001b[0mos\u001b[0m\u001b[1;33m.\u001b[0m\u001b[0mpath\u001b[0m\u001b[1;33m.\u001b[0m\u001b[0msplitext\u001b[0m\u001b[1;33m(\u001b[0m\u001b[0mto_file\u001b[0m\u001b[1;33m)\u001b[0m\u001b[1;33m\u001b[0m\u001b[0m\n\u001b[0;32m    102\u001b[0m     \u001b[1;32mif\u001b[0m \u001b[1;32mnot\u001b[0m \u001b[0mextension\u001b[0m\u001b[1;33m:\u001b[0m\u001b[1;33m\u001b[0m\u001b[0m\n",
      "\u001b[1;32mc:\\users\\slava\\anaconda3\\envs\\py35\\lib\\site-packages\\keras\\utils\\vis_utils.py\u001b[0m in \u001b[0;36mmodel_to_dot\u001b[1;34m(model, show_shapes, show_layer_names)\u001b[0m\n\u001b[0;32m     33\u001b[0m     \u001b[1;32mfrom\u001b[0m \u001b[1;33m.\u001b[0m\u001b[1;33m.\u001b[0m\u001b[0mmodels\u001b[0m \u001b[1;32mimport\u001b[0m \u001b[0mSequential\u001b[0m\u001b[1;33m\u001b[0m\u001b[0m\n\u001b[0;32m     34\u001b[0m \u001b[1;33m\u001b[0m\u001b[0m\n\u001b[1;32m---> 35\u001b[1;33m     \u001b[0m_check_pydot\u001b[0m\u001b[1;33m(\u001b[0m\u001b[1;33m)\u001b[0m\u001b[1;33m\u001b[0m\u001b[0m\n\u001b[0m\u001b[0;32m     36\u001b[0m     \u001b[0mdot\u001b[0m \u001b[1;33m=\u001b[0m \u001b[0mpydot\u001b[0m\u001b[1;33m.\u001b[0m\u001b[0mDot\u001b[0m\u001b[1;33m(\u001b[0m\u001b[1;33m)\u001b[0m\u001b[1;33m\u001b[0m\u001b[0m\n\u001b[0;32m     37\u001b[0m     \u001b[0mdot\u001b[0m\u001b[1;33m.\u001b[0m\u001b[0mset\u001b[0m\u001b[1;33m(\u001b[0m\u001b[1;34m'rankdir'\u001b[0m\u001b[1;33m,\u001b[0m \u001b[1;34m'TB'\u001b[0m\u001b[1;33m)\u001b[0m\u001b[1;33m\u001b[0m\u001b[0m\n",
      "\u001b[1;32mc:\\users\\slava\\anaconda3\\envs\\py35\\lib\\site-packages\\keras\\utils\\vis_utils.py\u001b[0m in \u001b[0;36m_check_pydot\u001b[1;34m()\u001b[0m\n\u001b[0;32m     15\u001b[0m \u001b[1;32mdef\u001b[0m \u001b[0m_check_pydot\u001b[0m\u001b[1;33m(\u001b[0m\u001b[1;33m)\u001b[0m\u001b[1;33m:\u001b[0m\u001b[1;33m\u001b[0m\u001b[0m\n\u001b[0;32m     16\u001b[0m     \u001b[1;32mif\u001b[0m \u001b[1;32mnot\u001b[0m \u001b[1;33m(\u001b[0m\u001b[0mpydot\u001b[0m \u001b[1;32mand\u001b[0m \u001b[0mpydot\u001b[0m\u001b[1;33m.\u001b[0m\u001b[0mfind_graphviz\u001b[0m\u001b[1;33m(\u001b[0m\u001b[1;33m)\u001b[0m\u001b[1;33m)\u001b[0m\u001b[1;33m:\u001b[0m\u001b[1;33m\u001b[0m\u001b[0m\n\u001b[1;32m---> 17\u001b[1;33m         raise ImportError('Failed to import pydot. You must install pydot'\n\u001b[0m\u001b[0;32m     18\u001b[0m                           ' and graphviz for `pydotprint` to work.')\n\u001b[0;32m     19\u001b[0m \u001b[1;33m\u001b[0m\u001b[0m\n",
      "\u001b[1;31mImportError\u001b[0m: Failed to import pydot. You must install pydot and graphviz for `pydotprint` to work."
     ]
    }
   ],
   "source": [
    "from keras.utils import plot_model\n",
    "plot_model(model, to_file='model.png')"
   ]
  },
  {
   "cell_type": "code",
   "execution_count": null,
   "metadata": {
    "collapsed": true
   },
   "outputs": [],
   "source": []
  },
  {
   "cell_type": "code",
   "execution_count": null,
   "metadata": {
    "collapsed": true
   },
   "outputs": [],
   "source": []
  }
 ],
 "metadata": {
  "kernelspec": {
   "display_name": "Python 3",
   "language": "python",
   "name": "python3"
  },
  "language_info": {
   "codemirror_mode": {
    "name": "ipython",
    "version": 3
   },
   "file_extension": ".py",
   "mimetype": "text/x-python",
   "name": "python",
   "nbconvert_exporter": "python",
   "pygments_lexer": "ipython3",
   "version": "3.5.3"
  }
 },
 "nbformat": 4,
 "nbformat_minor": 2
}
